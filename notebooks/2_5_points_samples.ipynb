{
 "cells": [
  {
   "cell_type": "code",
   "execution_count": 1,
   "metadata": {},
   "outputs": [],
   "source": [
    "import sys\n",
    "import os\n",
    "\n",
    "# from src.puzzle_creators import Direction\n",
    "\n",
    "SCRIPT_DIR = os.path.dirname(os.path.abspath(os.getcwd()+\"/notebooks\"))\n",
    "sys.path.append(os.path.dirname(SCRIPT_DIR))\n"
   ]
  },
  {
   "cell_type": "code",
   "execution_count": 2,
   "metadata": {},
   "outputs": [],
   "source": [
    "import pandas as pd \n",
    "import matplotlib.pyplot as plt\n",
    "import glob\n",
    "import os\n",
    "from functools import reduce\n",
    "from pathlib import Path\n",
    "from src.puzzle_creators import statistics"
   ]
  },
  {
   "cell_type": "code",
   "execution_count": 3,
   "metadata": {},
   "outputs": [
    {
     "data": {
      "text/html": [
       "<div>\n",
       "<style scoped>\n",
       "    .dataframe tbody tr th:only-of-type {\n",
       "        vertical-align: middle;\n",
       "    }\n",
       "\n",
       "    .dataframe tbody tr th {\n",
       "        vertical-align: top;\n",
       "    }\n",
       "\n",
       "    .dataframe thead th {\n",
       "        text-align: right;\n",
       "    }\n",
       "</style>\n",
       "<table border=\"1\" class=\"dataframe\">\n",
       "  <thead>\n",
       "    <tr style=\"text-align: right;\">\n",
       "      <th></th>\n",
       "      <th>name</th>\n",
       "      <th>n_convex_hull</th>\n",
       "      <th>n_interior</th>\n",
       "      <th>example_path</th>\n",
       "    </tr>\n",
       "  </thead>\n",
       "  <tbody>\n",
       "    <tr>\n",
       "      <th>0</th>\n",
       "      <td>convex_hull-5-int-0-107</td>\n",
       "      <td>5</td>\n",
       "      <td>0</td>\n",
       "      <td>C:\\Users\\yaniv\\Desktop\\MSCBenGurion\\iCVL\\rgons...</td>\n",
       "    </tr>\n",
       "    <tr>\n",
       "      <th>1</th>\n",
       "      <td>convex_hull-5-int-0-1826</td>\n",
       "      <td>5</td>\n",
       "      <td>0</td>\n",
       "      <td>C:\\Users\\yaniv\\Desktop\\MSCBenGurion\\iCVL\\rgons...</td>\n",
       "    </tr>\n",
       "    <tr>\n",
       "      <th>2</th>\n",
       "      <td>convex_hull-5-int-0-2039</td>\n",
       "      <td>5</td>\n",
       "      <td>0</td>\n",
       "      <td>C:\\Users\\yaniv\\Desktop\\MSCBenGurion\\iCVL\\rgons...</td>\n",
       "    </tr>\n",
       "    <tr>\n",
       "      <th>3</th>\n",
       "      <td>convex_hull-5-int-0-3371</td>\n",
       "      <td>5</td>\n",
       "      <td>0</td>\n",
       "      <td>C:\\Users\\yaniv\\Desktop\\MSCBenGurion\\iCVL\\rgons...</td>\n",
       "    </tr>\n",
       "    <tr>\n",
       "      <th>4</th>\n",
       "      <td>convex_hull-5-int-0-367</td>\n",
       "      <td>5</td>\n",
       "      <td>0</td>\n",
       "      <td>C:\\Users\\yaniv\\Desktop\\MSCBenGurion\\iCVL\\rgons...</td>\n",
       "    </tr>\n",
       "  </tbody>\n",
       "</table>\n",
       "</div>"
      ],
      "text/plain": [
       "                       name  n_convex_hull  n_interior  \\\n",
       "0   convex_hull-5-int-0-107              5           0   \n",
       "1  convex_hull-5-int-0-1826              5           0   \n",
       "2  convex_hull-5-int-0-2039              5           0   \n",
       "3  convex_hull-5-int-0-3371              5           0   \n",
       "4   convex_hull-5-int-0-367              5           0   \n",
       "\n",
       "                                        example_path  \n",
       "0  C:\\Users\\yaniv\\Desktop\\MSCBenGurion\\iCVL\\rgons...  \n",
       "1  C:\\Users\\yaniv\\Desktop\\MSCBenGurion\\iCVL\\rgons...  \n",
       "2  C:\\Users\\yaniv\\Desktop\\MSCBenGurion\\iCVL\\rgons...  \n",
       "3  C:\\Users\\yaniv\\Desktop\\MSCBenGurion\\iCVL\\rgons...  \n",
       "4  C:\\Users\\yaniv\\Desktop\\MSCBenGurion\\iCVL\\rgons...  "
      ]
     },
     "execution_count": 3,
     "metadata": {},
     "output_type": "execute_result"
    }
   ],
   "source": [
    "def n_interior_points(example_name):\n",
    "    ex = example_name.split(\"\\\\\")[-1]\n",
    "    values = ex.split(\"-\")\n",
    "    return eval(values[-2])\n",
    "\n",
    "def n_convex_hull(example_name):\n",
    "    ex = example_name.split(\"\\\\\")[-1]\n",
    "    values = ex.split(\"-\")\n",
    "    return eval(values[1])\n",
    "\n",
    "\n",
    "examples_path = os.path.join(Path().resolve().parent,\"data\",\"puzzles\")\n",
    "examples = list(filter(lambda exa: n_convex_hull(exa)+n_interior_points(exa) == 5,\n",
    "                 [ex for ex in glob.glob(f\"{examples_path}/convex_hull*\")]))\n",
    "examples = sorted(examples,key=lambda ex: n_convex_hull(ex)+n_interior_points(ex)*1.01)\n",
    "\n",
    "df_examples = pd.DataFrame({\n",
    "    \"name\": list(map(lambda ex: ex.split(\"\\\\\")[-1],examples)),\n",
    "    \"n_convex_hull\":list(map(n_convex_hull,examples)),\n",
    "    \"n_interior\":list(map(n_interior_points,examples)),\n",
    "    # \"n_puzzles\":[len(glob.glob(f\"{sample_dir}/results/*.csv\")) for sample_dir in examples],\n",
    "    \"example_path\":examples\n",
    "})\n",
    "\n",
    "df_examples.head()"
   ]
  },
  {
   "cell_type": "markdown",
   "metadata": {},
   "source": [
    "#Build df_all_puzzles\n",
    "#The columns should be sample_name (example_name), puzzle_name, n_3_polygons,n_4_polygons..."
   ]
  },
  {
   "cell_type": "code",
   "execution_count": 43,
   "metadata": {},
   "outputs": [
    {
     "name": "stdout",
     "output_type": "stream",
     "text": [
      "             name                   sample  polygon_3  polygon_4  polygon_5\n",
      "0  1-9_1-3_s_.csv  convex_hull-5-int-0-107        3.0        0.0        0.0\n",
      "1    1-9_2-3_.csv  convex_hull-5-int-0-107        3.0        0.0        0.0\n",
      "2    1-9_3-3_.csv  convex_hull-5-int-0-107        1.0        1.0        0.0\n",
      "3      2-9_s_.csv  convex_hull-5-int-0-107        1.0        1.0        0.0\n",
      "4        3-9_.csv  convex_hull-5-int-0-107        0.0        0.0        1.0\n"
     ]
    }
   ],
   "source": [
    "counts = []\n",
    "samples_names = []\n",
    "puzzles_names = []\n",
    "dfs = []\n",
    "for sample_dir in examples:\n",
    "    for puzzle_csv in glob.glob(f\"{sample_dir}/results/*.csv\"):\n",
    "        samples_names.append(sample_dir.split(\"\\\\\")[-1])\n",
    "        puzzles_names.append(puzzle_csv.split(\"\\\\\")[-1])\n",
    "        df_puzzle_polygons = pd.read_csv(puzzle_csv,index_col=False)\n",
    "        df_puzzle_polygons = df_puzzle_polygons.groupby(\"id\").size().reset_index(name=\"polygon_type\")\n",
    "        # print(df_puzzle_polygons.head(20))\n",
    "        # print(df_puzzle_polygons.columns)\n",
    "        df = pd.DataFrame(df_puzzle_polygons.value_counts([\"polygon_type\"])).reset_index()\n",
    "        df.columns = [\"polygon_type\",\"count\"]\n",
    "        # print(df.head())\n",
    "        # print(df.columns)\n",
    "        df = df.set_index(\"polygon_type\")\n",
    "        df = df.T#.reset_index(drop=True)\n",
    "        df.columns = [f\"polygon_{col}\" for col in df.columns]\n",
    "        df = df.reset_index(drop=True)\n",
    "        dfs.append(df)\n",
    "        # print(df.head())\n",
    "        # print(df.columns)\n",
    "        \n",
    "all_puzzles = pd.concat(dfs).fillna(0)\n",
    "all_puzzles[\"name\"] = puzzles_names\n",
    "all_puzzles[\"sample\"] = samples_names\n",
    "all_puzzles = all_puzzles.reset_index(drop=True)\n",
    "cols = list(all_puzzles.columns)\n",
    "all_puzzles = all_puzzles[cols[-2:]+cols[:-2]]\n",
    "print(all_puzzles.head(5))\n",
    "print(len(all_puzzles))\n",
    "\n"
   ]
  },
  {
   "cell_type": "code",
   "execution_count": 45,
   "metadata": {},
   "outputs": [
    {
     "data": {
      "text/plain": [
       "350"
      ]
     },
     "execution_count": 45,
     "metadata": {},
     "output_type": "execute_result"
    }
   ],
   "source": []
  },
  {
   "cell_type": "markdown",
   "metadata": {},
   "source": [
    "#For each example calculate the expected value and variance"
   ]
  },
  {
   "cell_type": "markdown",
   "metadata": {},
   "source": []
  }
 ],
 "metadata": {
  "interpreter": {
   "hash": "e68634607eda34f49278e58a2a01c39877cf05dc864956f04498852e14ed5133"
  },
  "kernelspec": {
   "display_name": "Python 3.7.0 ('.venv': venv)",
   "language": "python",
   "name": "python3"
  },
  "language_info": {
   "codemirror_mode": {
    "name": "ipython",
    "version": 3
   },
   "file_extension": ".py",
   "mimetype": "text/x-python",
   "name": "python",
   "nbconvert_exporter": "python",
   "pygments_lexer": "ipython3",
   "version": "3.7.0"
  },
  "orig_nbformat": 4
 },
 "nbformat": 4,
 "nbformat_minor": 2
}
